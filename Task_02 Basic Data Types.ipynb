{
 "cells": [
  {
   "cell_type": "markdown",
   "id": "c487b39c",
   "metadata": {},
   "source": [
    "# Subdomain : Basic Data Types"
   ]
  },
  {
   "cell_type": "markdown",
   "id": "3f26719f",
   "metadata": {},
   "source": [
    "## Problem 1 : List Comprehensions\n",
    "\n",
    "* **Let's learn about list comprehensions! You are given three integers and representing the dimensions of a cuboid along with an integer n. You have to print a list of all possible coordinates given by (i, j, k) on a 3D grid where the sum of i+j+k is not equal to n.**\n",
    "\n",
    "* **Here, 0<=i<=x; 0 <=j<=y; 0<=k<=z**"
   ]
  },
  {
   "cell_type": "code",
   "execution_count": 1,
   "id": "58f5c2b2",
   "metadata": {},
   "outputs": [
    {
     "name": "stdout",
     "output_type": "stream",
     "text": [
      "2\n",
      "2\n",
      "2\n",
      "2\n",
      "[[0, 0, 0], [0, 0, 1], [0, 1, 0], [0, 1, 2], [0, 2, 1], [0, 2, 2], [1, 0, 0], [1, 0, 2], [1, 1, 1], [1, 1, 2], [1, 2, 0], [1, 2, 1], [1, 2, 2], [2, 0, 1], [2, 0, 2], [2, 1, 0], [2, 1, 1], [2, 1, 2], [2, 2, 0], [2, 2, 1], [2, 2, 2]]\n"
     ]
    }
   ],
   "source": [
    "if __name__ == '__main__':\n",
    "    x = int(input())\n",
    "    y = int(input())\n",
    "    z = int(input())\n",
    "    n = int(input())\n",
    "    \n",
    "    ar = []\n",
    "    p = 0\n",
    "\n",
    "    for i in range ( x + 1 ) :\n",
    "         for j in range( y + 1):\n",
    "                for k in range( z + 1):\n",
    "                    if i+j+k != n:\n",
    "                        ar.append([])\n",
    "                        ar[p] = [ i , j, k ]\n",
    "                        p+=1\n",
    "    print(ar)"
   ]
  },
  {
   "cell_type": "markdown",
   "id": "29c79909",
   "metadata": {},
   "source": [
    "## Problem 2 : Find the Runner-Up Score!\n",
    "\n",
    "* **Given the participants' score sheet for your University Sports Day, you are required to find the runner-up score. You are given n scores. Store them in a list and find the score of the runner-up.**"
   ]
  },
  {
   "cell_type": "code",
   "execution_count": 2,
   "id": "3a63b175",
   "metadata": {},
   "outputs": [
    {
     "name": "stdout",
     "output_type": "stream",
     "text": [
      "5\n",
      "2 3 6 6 5\n",
      "5\n"
     ]
    }
   ],
   "source": [
    "if __name__ == '__main__':\n",
    "    n = int(input())\n",
    "    arr = map(int, input().split())\n",
    "    \n",
    "    lst = list(arr)\n",
    "    scores = list()\n",
    "\n",
    "    for score in lst:\n",
    "        if score not in scores:\n",
    "            scores.append(score)\n",
    "        else :\n",
    "            continue\n",
    "    ordr = sorted(scores, reverse=True)\n",
    "    print(ordr[1])"
   ]
  },
  {
   "cell_type": "markdown",
   "id": "7f23eed4",
   "metadata": {},
   "source": [
    "## Problem 3 : Nested Lists\n",
    "\n",
    "* **Given the names and grades for each student in a class of N students, store them in a nested list and print the name(s) of any student(s) having the second lowest grade.**\n",
    "\n",
    "* **Note: If there are multiple students with the second lowest grade, order their names alphabetically and print each name on a new line.**"
   ]
  },
  {
   "cell_type": "code",
   "execution_count": 2,
   "id": "e1a750f9",
   "metadata": {},
   "outputs": [
    {
     "name": "stdout",
     "output_type": "stream",
     "text": [
      "5\n",
      "Harry\n",
      "37.21\n",
      "Berry\n",
      "37.21\n",
      "Tina\n",
      "37.21\n",
      "Akriti\n",
      "41\n",
      "Harsh\n",
      "39\n",
      "Harsh\n"
     ]
    }
   ],
   "source": [
    "if __name__ == '__main__':\n",
    "    std_grade = []\n",
    "    for _ in range(int(input())):\n",
    "        name = input()\n",
    "        score = float(input())\n",
    "        std_grade.append([name, score])\n",
    "\n",
    "    second_lowest = sorted(list(set([grades for name, grades in std_grade])))[1]\n",
    "    print('\\n'.join([a for a, b in sorted(std_grade) if b == second_lowest]))"
   ]
  },
  {
   "cell_type": "markdown",
   "id": "713145b8",
   "metadata": {},
   "source": [
    "## Problem 4 : Finding the percentage\n",
    "* **The provided code stub will read in a dictionary containing key/value pairs of name:[marks] for a list of students. Print the average of the marks array for the student name provided, showing 2 places after the decimal.**\n"
   ]
  },
  {
   "cell_type": "code",
   "execution_count": 3,
   "id": "de6c21a9",
   "metadata": {},
   "outputs": [
    {
     "name": "stdout",
     "output_type": "stream",
     "text": [
      "3\n",
      "Krishna 67 68 69\n",
      "Arjun 70 98 63\n",
      "Malika 52 56 60\n",
      "Malika\n",
      "56.00\n"
     ]
    }
   ],
   "source": [
    "if __name__ == '__main__':\n",
    "    n = int(input())\n",
    "    student_marks = {}\n",
    "    for _ in range(n):\n",
    "        name, *line = input().split()\n",
    "        scores = list(map(float, line))\n",
    "        student_marks[name] = scores\n",
    "    query_name = input()\n",
    "    if query_name in student_marks.keys():\n",
    "        l=student_marks[query_name]\n",
    "        aver=sum(l)/len(l)\n",
    "print(format(aver,\".2f\"))"
   ]
  },
  {
   "cell_type": "markdown",
   "id": "daf74cae",
   "metadata": {},
   "source": [
    "## Problem 5 : Lists\n",
    "**Consider a list (list = []). You can perform the following commands:**\n",
    "\n",
    "* 1. insert i e: Insert integer e at position i.\n",
    "* 2. print: Print the list.\n",
    "* 3. remove e: Delete the first occurrence of integer e.\n",
    "* 4. append e: Insert integer e at the end of the list.\n",
    "* 5. sort: Sort the list.\n",
    "* 6. pop: Pop the last element from the list.\n",
    "* 7. reverse: Reverse the list.\n",
    "\n",
    "**Initialize your list and read in the value of n followed by n lines of commands where each command will be of the 7 types listed above. Iterate through each command in order and perform the corresponding operation on your list.**"
   ]
  },
  {
   "cell_type": "code",
   "execution_count": 4,
   "id": "f67ce9b8",
   "metadata": {},
   "outputs": [
    {
     "name": "stdout",
     "output_type": "stream",
     "text": [
      "12\n",
      "insert 0 5\n",
      "insert 1 10\n",
      "insert 0 6\n",
      "print\n",
      "[6, 5, 10]\n",
      "remove 6\n",
      "append 9\n",
      "append 1\n",
      "sort\n",
      "print\n",
      "[1, 5, 9, 10]\n",
      "pop\n",
      "reverse\n",
      "print\n",
      "[9, 5, 1]\n"
     ]
    }
   ],
   "source": [
    "if __name__ == '__main__':\n",
    "    N = int(input())\n",
    "    L = []\n",
    "    \n",
    "    for i in range(0,N):\n",
    "        cmd=input().split()\n",
    "        if cmd[0] == \"insert\":\n",
    "            L.insert(int(cmd[1]),int(cmd[2]))\n",
    "        elif cmd[0] == \"append\":\n",
    "            L.append(int(cmd[1]))\n",
    "        elif cmd[0] == \"pop\":\n",
    "            L.pop()\n",
    "        elif cmd[0] == \"print\":\n",
    "            print(L)\n",
    "        elif cmd[0] == \"remove\":\n",
    "            L.remove(int(cmd[1]))\n",
    "        elif cmd[0] == \"sort\":\n",
    "            L.sort()\n",
    "        else:\n",
    "            L.reverse()"
   ]
  },
  {
   "cell_type": "markdown",
   "id": "1a080b2e",
   "metadata": {},
   "source": [
    "## Problem 6 : Tuples\n",
    "**Given an integer, n, and n space-separated integers as input, create a tuple, t, of those n integers. Then compute and print the result of hash(t).**\n",
    "\n",
    "**Note: hash() is one of the functions in the __builtins__ module, so it need not be imported.**"
   ]
  },
  {
   "cell_type": "code",
   "execution_count": 5,
   "id": "f7e55503",
   "metadata": {},
   "outputs": [
    {
     "name": "stdout",
     "output_type": "stream",
     "text": [
      "2\n",
      "1 2\n",
      "-3550055125485641917\n"
     ]
    }
   ],
   "source": [
    "if __name__ == \"__main__\":\n",
    "    n = int(input())\n",
    "    integer_list = map(int, input().split())\n",
    "    t = tuple(integer_list)\n",
    "    print(hash(t))"
   ]
  },
  {
   "cell_type": "markdown",
   "id": "8bf24f96",
   "metadata": {},
   "source": [
    "# THE END !!!"
   ]
  }
 ],
 "metadata": {
  "kernelspec": {
   "display_name": "Python 3 (ipykernel)",
   "language": "python",
   "name": "python3"
  },
  "language_info": {
   "codemirror_mode": {
    "name": "ipython",
    "version": 3
   },
   "file_extension": ".py",
   "mimetype": "text/x-python",
   "name": "python",
   "nbconvert_exporter": "python",
   "pygments_lexer": "ipython3",
   "version": "3.9.13"
  }
 },
 "nbformat": 4,
 "nbformat_minor": 5
}
